{
 "cells": [
  {
   "cell_type": "code",
   "execution_count": 1,
   "metadata": {},
   "outputs": [],
   "source": [
    "import json\n",
    "\n",
    "# Sample dataset (replace with your actual dataset)\n",
    "with open(\"../datasets/freiburg_groceries_dataset_final.json\") as f:\n",
    "    dataset = json.load(f)"
   ]
  },
  {
   "cell_type": "code",
   "execution_count": null,
   "metadata": {},
   "outputs": [
    {
     "name": "stdout",
     "output_type": "stream",
     "text": [
      "Changes saved for entry 1507.\n",
      "Empty item added and changes saved for entry 1507.\n"
     ]
    },
    {
     "name": "stdout",
     "output_type": "stream",
     "text": [
      "Changes saved for entry 1507.\n"
     ]
    },
    {
     "name": "stdout",
     "output_type": "stream",
     "text": [
      "Changes saved for entry 1508.\n"
     ]
    },
    {
     "name": "stdout",
     "output_type": "stream",
     "text": [
      "Changes saved for entry 1509.\n"
     ]
    },
    {
     "name": "stdout",
     "output_type": "stream",
     "text": [
      "Changes saved for entry 1510.\n"
     ]
    },
    {
     "name": "stdout",
     "output_type": "stream",
     "text": [
      "Changes saved for entry 1511.\n",
      "Entry 1511 deleted.\n"
     ]
    },
    {
     "name": "stdout",
     "output_type": "stream",
     "text": [
      "Changes saved for entry 1511.\n",
      "Entry 1511 deleted.\n"
     ]
    },
    {
     "name": "stdout",
     "output_type": "stream",
     "text": [
      "Changes saved for entry 1511.\n",
      "Entry 1511 deleted.\n"
     ]
    },
    {
     "name": "stdout",
     "output_type": "stream",
     "text": [
      "Changes saved for entry 1511.\n"
     ]
    },
    {
     "name": "stdout",
     "output_type": "stream",
     "text": [
      "Changes saved for entry 1512.\n"
     ]
    },
    {
     "name": "stdout",
     "output_type": "stream",
     "text": [
      "Changes saved for entry 1513.\n",
      "Entry 1513 deleted.\n"
     ]
    },
    {
     "name": "stdout",
     "output_type": "stream",
     "text": [
      "Changes saved for entry 1513.\n"
     ]
    },
    {
     "name": "stdout",
     "output_type": "stream",
     "text": [
      "Changes saved for entry 1514.\n"
     ]
    },
    {
     "name": "stdout",
     "output_type": "stream",
     "text": [
      "Changes saved for entry 1515.\n",
      "Entry 1515 deleted.\n"
     ]
    },
    {
     "name": "stdout",
     "output_type": "stream",
     "text": [
      "Changes saved for entry 1515.\n"
     ]
    },
    {
     "name": "stdout",
     "output_type": "stream",
     "text": [
      "Changes saved for entry 1516.\n",
      "Entry 1516 deleted.\n"
     ]
    },
    {
     "name": "stdout",
     "output_type": "stream",
     "text": [
      "Changes saved for entry 1516.\n"
     ]
    },
    {
     "name": "stdout",
     "output_type": "stream",
     "text": [
      "Changes saved for entry 1517.\n",
      "Entry 1517 deleted.\n"
     ]
    },
    {
     "name": "stdout",
     "output_type": "stream",
     "text": [
      "Changes saved for entry 1517.\n",
      "Entry 1517 deleted.\n"
     ]
    },
    {
     "name": "stdout",
     "output_type": "stream",
     "text": [
      "Changes saved for entry 1517.\n",
      "Empty item added and changes saved for entry 1517.\n"
     ]
    },
    {
     "name": "stdout",
     "output_type": "stream",
     "text": [
      "Changes saved for entry 1517.\n"
     ]
    },
    {
     "name": "stdout",
     "output_type": "stream",
     "text": [
      "Changes saved for entry 1518.\n"
     ]
    },
    {
     "name": "stdout",
     "output_type": "stream",
     "text": [
      "Changes saved for entry 1519.\n",
      "Entry 1519 deleted.\n"
     ]
    },
    {
     "name": "stdout",
     "output_type": "stream",
     "text": [
      "Changes saved for entry 1519.\n",
      "Entry 1519 deleted.\n"
     ]
    },
    {
     "name": "stdout",
     "output_type": "stream",
     "text": [
      "Changes saved for entry 1519.\n",
      "Entry 1519 deleted.\n"
     ]
    },
    {
     "name": "stdout",
     "output_type": "stream",
     "text": [
      "Changes saved for entry 1519.\n",
      "Entry 1519 deleted.\n"
     ]
    },
    {
     "name": "stdout",
     "output_type": "stream",
     "text": [
      "Changes saved for entry 1519.\n"
     ]
    },
    {
     "name": "stdout",
     "output_type": "stream",
     "text": [
      "Changes saved for entry 1520.\n"
     ]
    },
    {
     "name": "stdout",
     "output_type": "stream",
     "text": [
      "Changes saved for entry 1521.\n",
      "Entry 1521 deleted.\n"
     ]
    },
    {
     "name": "stdout",
     "output_type": "stream",
     "text": [
      "Changes saved for entry 1521.\n",
      "Entry 1521 deleted.\n"
     ]
    },
    {
     "name": "stdout",
     "output_type": "stream",
     "text": [
      "Changes saved for entry 1521.\n",
      "Entry 1521 deleted.\n"
     ]
    },
    {
     "name": "stdout",
     "output_type": "stream",
     "text": [
      "Changes saved for entry 1521.\n",
      "Entry 1521 deleted.\n"
     ]
    },
    {
     "name": "stdout",
     "output_type": "stream",
     "text": [
      "Changes saved for entry 1521.\n",
      "Entry 1521 deleted.\n"
     ]
    },
    {
     "name": "stdout",
     "output_type": "stream",
     "text": [
      "Changes saved for entry 1521.\n",
      "Empty item added and changes saved for entry 1521.\n"
     ]
    },
    {
     "name": "stdout",
     "output_type": "stream",
     "text": [
      "Changes saved for entry 1521.\n",
      "Empty item added and changes saved for entry 1521.\n"
     ]
    },
    {
     "name": "stdout",
     "output_type": "stream",
     "text": [
      "Changes saved for entry 1521.\n"
     ]
    },
    {
     "name": "stdout",
     "output_type": "stream",
     "text": [
      "Changes saved for entry 1522.\n"
     ]
    },
    {
     "name": "stdout",
     "output_type": "stream",
     "text": [
      "Changes saved for entry 1523.\n",
      "Entry 1523 deleted.\n"
     ]
    },
    {
     "name": "stdout",
     "output_type": "stream",
     "text": [
      "Changes saved for entry 1523.\n",
      "Entry 1523 deleted.\n"
     ]
    },
    {
     "name": "stdout",
     "output_type": "stream",
     "text": [
      "Changes saved for entry 1523.\n"
     ]
    },
    {
     "name": "stdout",
     "output_type": "stream",
     "text": [
      "Changes saved for entry 1524.\n",
      "Entry 1524 deleted.\n"
     ]
    },
    {
     "name": "stdout",
     "output_type": "stream",
     "text": [
      "Changes saved for entry 1524.\n"
     ]
    },
    {
     "name": "stdout",
     "output_type": "stream",
     "text": [
      "Changes saved for entry 1525.\n",
      "Entry 1525 deleted.\n"
     ]
    },
    {
     "name": "stdout",
     "output_type": "stream",
     "text": [
      "Changes saved for entry 1525.\n",
      "Entry 1525 deleted.\n"
     ]
    },
    {
     "name": "stdout",
     "output_type": "stream",
     "text": [
      "Changes saved for entry 1525.\n",
      "Empty item added and changes saved for entry 1525.\n"
     ]
    },
    {
     "name": "stdout",
     "output_type": "stream",
     "text": [
      "Changes saved for entry 1525.\n"
     ]
    },
    {
     "name": "stdout",
     "output_type": "stream",
     "text": [
      "Changes saved for entry 1526.\n",
      "Empty item added and changes saved for entry 1526.\n"
     ]
    },
    {
     "name": "stdout",
     "output_type": "stream",
     "text": [
      "Changes saved for entry 1526.\n",
      "Item 1 deleted and changes saved for entry 1526.\n"
     ]
    },
    {
     "name": "stdout",
     "output_type": "stream",
     "text": [
      "Changes saved for entry 1526.\n"
     ]
    },
    {
     "name": "stdout",
     "output_type": "stream",
     "text": [
      "Changes saved for entry 1527.\n",
      "Entry 1527 deleted.\n"
     ]
    },
    {
     "name": "stdout",
     "output_type": "stream",
     "text": [
      "Changes saved for entry 1527.\n",
      "Item 1 deleted and changes saved for entry 1527.\n"
     ]
    },
    {
     "name": "stdout",
     "output_type": "stream",
     "text": [
      "Changes saved for entry 1527.\n",
      "Entry 1527 deleted.\n"
     ]
    },
    {
     "name": "stdout",
     "output_type": "stream",
     "text": [
      "Changes saved for entry 1527.\n",
      "Entry 1527 deleted.\n"
     ]
    },
    {
     "name": "stdout",
     "output_type": "stream",
     "text": [
      "Changes saved for entry 1527.\n",
      "Entry 1527 deleted.\n"
     ]
    },
    {
     "name": "stdout",
     "output_type": "stream",
     "text": [
      "Changes saved for entry 1527.\n",
      "Entry 1527 deleted.\n"
     ]
    },
    {
     "name": "stdout",
     "output_type": "stream",
     "text": [
      "Changes saved for entry 1527.\n",
      "Entry 1527 deleted.\n"
     ]
    },
    {
     "name": "stdout",
     "output_type": "stream",
     "text": [
      "Changes saved for entry 1527.\n",
      "Entry 1527 deleted.\n"
     ]
    },
    {
     "name": "stdout",
     "output_type": "stream",
     "text": [
      "Changes saved for entry 1527.\n"
     ]
    },
    {
     "name": "stdout",
     "output_type": "stream",
     "text": [
      "Changes saved for entry 1528.\n",
      "Entry 1528 deleted.\n"
     ]
    },
    {
     "name": "stdout",
     "output_type": "stream",
     "text": [
      "Changes saved for entry 1528.\n",
      "Entry 1528 deleted.\n"
     ]
    },
    {
     "name": "stdout",
     "output_type": "stream",
     "text": [
      "Changes saved for entry 1528.\n",
      "Entry 1528 deleted.\n"
     ]
    },
    {
     "name": "stdout",
     "output_type": "stream",
     "text": [
      "Changes saved for entry 1528.\n"
     ]
    },
    {
     "name": "stdout",
     "output_type": "stream",
     "text": [
      "Changes saved for entry 1529.\n"
     ]
    },
    {
     "name": "stdout",
     "output_type": "stream",
     "text": [
      "Changes saved for entry 1530.\n",
      "Entry 1530 deleted.\n"
     ]
    },
    {
     "name": "stdout",
     "output_type": "stream",
     "text": [
      "Changes saved for entry 1530.\n",
      "Entry 1530 deleted.\n"
     ]
    },
    {
     "name": "stdout",
     "output_type": "stream",
     "text": [
      "Changes saved for entry 1530.\n",
      "Entry 1530 deleted.\n"
     ]
    },
    {
     "name": "stdout",
     "output_type": "stream",
     "text": [
      "Changes saved for entry 1530.\n",
      "Entry 1530 deleted.\n"
     ]
    },
    {
     "name": "stdout",
     "output_type": "stream",
     "text": [
      "Changes saved for entry 1530.\n",
      "Entry 1530 deleted.\n"
     ]
    },
    {
     "name": "stdout",
     "output_type": "stream",
     "text": [
      "Changes saved for entry 1530.\n"
     ]
    },
    {
     "name": "stdout",
     "output_type": "stream",
     "text": [
      "Changes saved for entry 1531.\n",
      "Entry 1531 deleted.\n"
     ]
    },
    {
     "name": "stdout",
     "output_type": "stream",
     "text": [
      "Changes saved for entry 1531.\n"
     ]
    },
    {
     "name": "stdout",
     "output_type": "stream",
     "text": [
      "Changes saved for entry 1532.\n"
     ]
    },
    {
     "name": "stdout",
     "output_type": "stream",
     "text": [
      "Changes saved for entry 1533.\n"
     ]
    },
    {
     "name": "stdout",
     "output_type": "stream",
     "text": [
      "Changes saved for entry 1534.\n"
     ]
    },
    {
     "name": "stdout",
     "output_type": "stream",
     "text": [
      "Changes saved for entry 1535.\n",
      "Empty item added and changes saved for entry 1535.\n"
     ]
    },
    {
     "name": "stdout",
     "output_type": "stream",
     "text": [
      "Changes saved for entry 1535.\n"
     ]
    },
    {
     "name": "stdout",
     "output_type": "stream",
     "text": [
      "Changes saved for entry 1536.\n"
     ]
    },
    {
     "name": "stdout",
     "output_type": "stream",
     "text": [
      "Changes saved for entry 1537.\n",
      "Entry 1537 deleted.\n"
     ]
    },
    {
     "name": "stdout",
     "output_type": "stream",
     "text": [
      "Changes saved for entry 1537.\n"
     ]
    },
    {
     "name": "stdout",
     "output_type": "stream",
     "text": [
      "Changes saved for entry 1538.\n",
      "Entry 1538 deleted.\n"
     ]
    },
    {
     "name": "stdout",
     "output_type": "stream",
     "text": [
      "Changes saved for entry 1538.\n",
      "Entry 1538 deleted.\n"
     ]
    },
    {
     "name": "stdout",
     "output_type": "stream",
     "text": [
      "Changes saved for entry 1538.\n",
      "Entry 1538 deleted.\n"
     ]
    },
    {
     "name": "stdout",
     "output_type": "stream",
     "text": [
      "Changes saved for entry 1538.\n",
      "Entry 1538 deleted.\n"
     ]
    },
    {
     "name": "stdout",
     "output_type": "stream",
     "text": [
      "Changes saved for entry 1538.\n",
      "Entry 1538 deleted.\n"
     ]
    },
    {
     "name": "stdout",
     "output_type": "stream",
     "text": [
      "Changes saved for entry 1538.\n"
     ]
    },
    {
     "name": "stdout",
     "output_type": "stream",
     "text": [
      "Changes saved for entry 1539.\n"
     ]
    },
    {
     "name": "stdout",
     "output_type": "stream",
     "text": [
      "Changes saved for entry 1540.\n"
     ]
    },
    {
     "name": "stdout",
     "output_type": "stream",
     "text": [
      "Changes saved for entry 1541.\n",
      "Entry 1541 deleted.\n"
     ]
    },
    {
     "name": "stdout",
     "output_type": "stream",
     "text": [
      "Changes saved for entry 1541.\n",
      "Empty item added and changes saved for entry 1541.\n"
     ]
    },
    {
     "name": "stdout",
     "output_type": "stream",
     "text": [
      "Changes saved for entry 1541.\n"
     ]
    },
    {
     "name": "stdout",
     "output_type": "stream",
     "text": [
      "Changes saved for entry 1542.\n",
      "Empty item added and changes saved for entry 1542.\n"
     ]
    },
    {
     "name": "stdout",
     "output_type": "stream",
     "text": [
      "Changes saved for entry 1542.\n"
     ]
    },
    {
     "name": "stdout",
     "output_type": "stream",
     "text": [
      "Changes saved for entry 1543.\n"
     ]
    },
    {
     "name": "stdout",
     "output_type": "stream",
     "text": [
      "Changes saved for entry 1544.\n",
      "Empty item added and changes saved for entry 1544.\n"
     ]
    },
    {
     "name": "stdout",
     "output_type": "stream",
     "text": [
      "Changes saved for entry 1544.\n",
      "Empty item added and changes saved for entry 1544.\n"
     ]
    },
    {
     "name": "stdout",
     "output_type": "stream",
     "text": [
      "Changes saved for entry 1544.\n",
      "Item 3 deleted and changes saved for entry 1544.\n"
     ]
    },
    {
     "name": "stdout",
     "output_type": "stream",
     "text": [
      "Changes saved for entry 1544.\n"
     ]
    },
    {
     "name": "stdout",
     "output_type": "stream",
     "text": [
      "Changes saved for entry 1545.\n",
      "Entry 1545 deleted.\n"
     ]
    },
    {
     "name": "stdout",
     "output_type": "stream",
     "text": [
      "Changes saved for entry 1545.\n",
      "Entry 1545 deleted.\n"
     ]
    },
    {
     "name": "stdout",
     "output_type": "stream",
     "text": [
      "Changes saved for entry 1545.\n"
     ]
    },
    {
     "name": "stdout",
     "output_type": "stream",
     "text": [
      "Changes saved for entry 1546.\n"
     ]
    },
    {
     "name": "stdout",
     "output_type": "stream",
     "text": [
      "Changes saved for entry 1547.\n",
      "Empty item added and changes saved for entry 1547.\n"
     ]
    },
    {
     "name": "stdout",
     "output_type": "stream",
     "text": [
      "Changes saved for entry 1547.\n",
      "Empty item added and changes saved for entry 1547.\n"
     ]
    },
    {
     "name": "stdout",
     "output_type": "stream",
     "text": [
      "Changes saved for entry 1547.\n",
      "Empty item added and changes saved for entry 1547.\n"
     ]
    },
    {
     "name": "stdout",
     "output_type": "stream",
     "text": [
      "Changes saved for entry 1547.\n"
     ]
    },
    {
     "name": "stdout",
     "output_type": "stream",
     "text": [
      "Changes saved for entry 1548.\n",
      "Empty item added and changes saved for entry 1548.\n"
     ]
    },
    {
     "name": "stdout",
     "output_type": "stream",
     "text": [
      "Changes saved for entry 1548.\n"
     ]
    },
    {
     "name": "stdout",
     "output_type": "stream",
     "text": [
      "Changes saved for entry 1549.\n",
      "Entry 1549 deleted.\n"
     ]
    },
    {
     "name": "stdout",
     "output_type": "stream",
     "text": [
      "Changes saved for entry 1549.\n",
      "Empty item added and changes saved for entry 1549.\n"
     ]
    },
    {
     "name": "stdout",
     "output_type": "stream",
     "text": [
      "Changes saved for entry 1549.\n",
      "Empty item added and changes saved for entry 1549.\n"
     ]
    },
    {
     "name": "stdout",
     "output_type": "stream",
     "text": [
      "Changes saved for entry 1549.\n"
     ]
    },
    {
     "name": "stdout",
     "output_type": "stream",
     "text": [
      "Changes saved for entry 1550.\n"
     ]
    },
    {
     "name": "stdout",
     "output_type": "stream",
     "text": [
      "Changes saved for entry 1551.\n",
      "Empty item added and changes saved for entry 1551.\n"
     ]
    },
    {
     "name": "stdout",
     "output_type": "stream",
     "text": [
      "Changes saved for entry 1551.\n"
     ]
    },
    {
     "name": "stdout",
     "output_type": "stream",
     "text": [
      "Changes saved for entry 1552.\n",
      "Entry 1552 deleted.\n"
     ]
    },
    {
     "name": "stdout",
     "output_type": "stream",
     "text": [
      "Changes saved for entry 1552.\n",
      "Entry 1552 deleted.\n"
     ]
    },
    {
     "name": "stdout",
     "output_type": "stream",
     "text": [
      "Changes saved for entry 1552.\n",
      "Entry 1552 deleted.\n"
     ]
    },
    {
     "name": "stdout",
     "output_type": "stream",
     "text": [
      "Changes saved for entry 1552.\n",
      "Entry 1552 deleted.\n"
     ]
    },
    {
     "name": "stdout",
     "output_type": "stream",
     "text": [
      "Changes saved for entry 1552.\n",
      "Entry 1552 deleted.\n"
     ]
    },
    {
     "name": "stdout",
     "output_type": "stream",
     "text": [
      "Changes saved for entry 1552.\n",
      "Entry 1552 deleted.\n"
     ]
    },
    {
     "name": "stdout",
     "output_type": "stream",
     "text": [
      "Changes saved for entry 1552.\n",
      "Entry 1552 deleted.\n"
     ]
    },
    {
     "name": "stdout",
     "output_type": "stream",
     "text": [
      "Changes saved for entry 1552.\n",
      "Entry 1552 deleted.\n"
     ]
    },
    {
     "name": "stdout",
     "output_type": "stream",
     "text": [
      "Changes saved for entry 1552.\n"
     ]
    },
    {
     "name": "stdout",
     "output_type": "stream",
     "text": [
      "Changes saved for entry 1553.\n"
     ]
    },
    {
     "name": "stdout",
     "output_type": "stream",
     "text": [
      "Changes saved for entry 1554.\n",
      "Entry 1554 deleted.\n"
     ]
    },
    {
     "name": "stdout",
     "output_type": "stream",
     "text": [
      "Changes saved for entry 1554.\n",
      "Entry 1554 deleted.\n"
     ]
    },
    {
     "name": "stdout",
     "output_type": "stream",
     "text": [
      "Changes saved for entry 1554.\n",
      "Entry 1554 deleted.\n"
     ]
    },
    {
     "name": "stdout",
     "output_type": "stream",
     "text": [
      "Changes saved for entry 1554.\n",
      "Entry 1554 deleted.\n"
     ]
    },
    {
     "name": "stdout",
     "output_type": "stream",
     "text": [
      "Changes saved for entry 1554.\n"
     ]
    },
    {
     "name": "stdout",
     "output_type": "stream",
     "text": [
      "Changes saved for entry 1555.\n"
     ]
    },
    {
     "name": "stdout",
     "output_type": "stream",
     "text": [
      "Changes saved for entry 1556.\n"
     ]
    },
    {
     "name": "stdout",
     "output_type": "stream",
     "text": [
      "Changes saved for entry 1557.\n"
     ]
    },
    {
     "name": "stdout",
     "output_type": "stream",
     "text": [
      "Changes saved for entry 1558.\n",
      "Entry 1558 deleted.\n"
     ]
    },
    {
     "name": "stdout",
     "output_type": "stream",
     "text": [
      "Changes saved for entry 1558.\n",
      "Empty item added and changes saved for entry 1558.\n"
     ]
    },
    {
     "name": "stdout",
     "output_type": "stream",
     "text": [
      "Changes saved for entry 1558.\n",
      "Empty item added and changes saved for entry 1558.\n"
     ]
    },
    {
     "name": "stdout",
     "output_type": "stream",
     "text": [
      "Changes saved for entry 1558.\n"
     ]
    },
    {
     "name": "stdout",
     "output_type": "stream",
     "text": [
      "Changes saved for entry 1559.\n"
     ]
    },
    {
     "name": "stdout",
     "output_type": "stream",
     "text": [
      "Changes saved for entry 1560.\n"
     ]
    },
    {
     "name": "stdout",
     "output_type": "stream",
     "text": [
      "Changes saved for entry 1561.\n"
     ]
    },
    {
     "name": "stdout",
     "output_type": "stream",
     "text": [
      "Changes saved for entry 1562.\n",
      "Entry 1562 deleted.\n"
     ]
    },
    {
     "name": "stdout",
     "output_type": "stream",
     "text": [
      "Changes saved for entry 1562.\n",
      "Entry 1562 deleted.\n"
     ]
    },
    {
     "name": "stdout",
     "output_type": "stream",
     "text": [
      "Changes saved for entry 1562.\n",
      "Entry 1562 deleted.\n"
     ]
    },
    {
     "name": "stdout",
     "output_type": "stream",
     "text": [
      "Changes saved for entry 1562.\n",
      "Entry 1562 deleted.\n"
     ]
    },
    {
     "name": "stdout",
     "output_type": "stream",
     "text": [
      "Changes saved for entry 1562.\n",
      "Entry 1562 deleted.\n"
     ]
    },
    {
     "name": "stdout",
     "output_type": "stream",
     "text": [
      "Changes saved for entry 1562.\n",
      "Entry 1562 deleted.\n"
     ]
    },
    {
     "name": "stdout",
     "output_type": "stream",
     "text": [
      "Changes saved for entry 1562.\n",
      "Entry 1562 deleted.\n"
     ]
    },
    {
     "name": "stdout",
     "output_type": "stream",
     "text": [
      "Changes saved for entry 1562.\n",
      "Entry 1562 deleted.\n"
     ]
    },
    {
     "name": "stdout",
     "output_type": "stream",
     "text": [
      "Changes saved for entry 1562.\n",
      "Entry 1562 deleted.\n"
     ]
    },
    {
     "name": "stdout",
     "output_type": "stream",
     "text": [
      "Changes saved for entry 1562.\n",
      "Entry 1562 deleted.\n"
     ]
    },
    {
     "name": "stdout",
     "output_type": "stream",
     "text": [
      "Changes saved for entry 1562.\n",
      "Entry 1562 deleted.\n"
     ]
    },
    {
     "name": "stdout",
     "output_type": "stream",
     "text": [
      "Changes saved for entry 1562.\n",
      "Entry 1562 deleted.\n"
     ]
    },
    {
     "name": "stdout",
     "output_type": "stream",
     "text": [
      "Changes saved for entry 1562.\n",
      "Entry 1562 deleted.\n"
     ]
    },
    {
     "name": "stdout",
     "output_type": "stream",
     "text": [
      "Changes saved for entry 1562.\n",
      "Entry 1562 deleted.\n"
     ]
    },
    {
     "name": "stdout",
     "output_type": "stream",
     "text": [
      "Changes saved for entry 1562.\n",
      "Entry 1562 deleted.\n"
     ]
    },
    {
     "name": "stdout",
     "output_type": "stream",
     "text": [
      "Changes saved for entry 1562.\n",
      "Entry 1562 deleted.\n"
     ]
    },
    {
     "name": "stdout",
     "output_type": "stream",
     "text": [
      "Changes saved for entry 1562.\n",
      "Entry 1562 deleted.\n"
     ]
    },
    {
     "name": "stdout",
     "output_type": "stream",
     "text": [
      "Changes saved for entry 1562.\n",
      "Entry 1562 deleted.\n"
     ]
    },
    {
     "name": "stdout",
     "output_type": "stream",
     "text": [
      "Changes saved for entry 1562.\n",
      "Entry 1562 deleted.\n"
     ]
    },
    {
     "name": "stdout",
     "output_type": "stream",
     "text": [
      "Changes saved for entry 1562.\n",
      "Entry 1562 deleted.\n"
     ]
    },
    {
     "name": "stdout",
     "output_type": "stream",
     "text": [
      "Changes saved for entry 1562.\n",
      "Entry 1562 deleted.\n"
     ]
    },
    {
     "name": "stdout",
     "output_type": "stream",
     "text": [
      "Changes saved for entry 1562.\n"
     ]
    },
    {
     "name": "stdout",
     "output_type": "stream",
     "text": [
      "Changes saved for entry 1563.\n",
      "Entry 1563 deleted.\n"
     ]
    },
    {
     "name": "stdout",
     "output_type": "stream",
     "text": [
      "Changes saved for entry 1563.\n",
      "Entry 1563 deleted.\n"
     ]
    },
    {
     "name": "stdout",
     "output_type": "stream",
     "text": [
      "Changes saved for entry 1563.\n"
     ]
    },
    {
     "name": "stdout",
     "output_type": "stream",
     "text": [
      "Changes saved for entry 1564.\n",
      "Empty item added and changes saved for entry 1564.\n"
     ]
    },
    {
     "name": "stdout",
     "output_type": "stream",
     "text": [
      "Changes saved for entry 1564.\n"
     ]
    },
    {
     "name": "stdout",
     "output_type": "stream",
     "text": [
      "Changes saved for entry 1565.\n",
      "Entry 1565 deleted.\n"
     ]
    },
    {
     "name": "stdout",
     "output_type": "stream",
     "text": [
      "Changes saved for entry 1565.\n",
      "Entry 1565 deleted.\n"
     ]
    },
    {
     "name": "stdout",
     "output_type": "stream",
     "text": [
      "Changes saved for entry 1565.\n",
      "Entry 1565 deleted.\n"
     ]
    },
    {
     "name": "stdout",
     "output_type": "stream",
     "text": [
      "Changes saved for entry 1565.\n",
      "Entry 1565 deleted.\n"
     ]
    },
    {
     "name": "stdout",
     "output_type": "stream",
     "text": [
      "Changes saved for entry 1565.\n",
      "Entry 1565 deleted.\n"
     ]
    },
    {
     "name": "stdout",
     "output_type": "stream",
     "text": [
      "Changes saved for entry 1565.\n",
      "Entry 1565 deleted.\n"
     ]
    },
    {
     "name": "stdout",
     "output_type": "stream",
     "text": [
      "Changes saved for entry 1565.\n",
      "Entry 1565 deleted.\n"
     ]
    },
    {
     "name": "stdout",
     "output_type": "stream",
     "text": [
      "Changes saved for entry 1565.\n"
     ]
    },
    {
     "name": "stdout",
     "output_type": "stream",
     "text": [
      "Changes saved for entry 1566.\n"
     ]
    },
    {
     "name": "stdout",
     "output_type": "stream",
     "text": [
      "Changes saved for entry 1567.\n",
      "Entry 1567 deleted.\n"
     ]
    },
    {
     "name": "stdout",
     "output_type": "stream",
     "text": [
      "Changes saved for entry 1567.\n"
     ]
    },
    {
     "name": "stdout",
     "output_type": "stream",
     "text": [
      "Changes saved for entry 1568.\n"
     ]
    },
    {
     "name": "stdout",
     "output_type": "stream",
     "text": [
      "Changes saved for entry 1567.\n",
      "Entry 1567 deleted.\n"
     ]
    },
    {
     "name": "stdout",
     "output_type": "stream",
     "text": [
      "Changes saved for entry 1567.\n",
      "Entry 1567 deleted.\n"
     ]
    },
    {
     "name": "stdout",
     "output_type": "stream",
     "text": [
      "Changes saved for entry 1567.\n",
      "Empty item added and changes saved for entry 1567.\n"
     ]
    },
    {
     "name": "stdout",
     "output_type": "stream",
     "text": [
      "Changes saved for entry 1567.\n"
     ]
    },
    {
     "name": "stdout",
     "output_type": "stream",
     "text": [
      "Changes saved for entry 1568.\n",
      "Empty item added and changes saved for entry 1568.\n"
     ]
    },
    {
     "name": "stdout",
     "output_type": "stream",
     "text": [
      "Changes saved for entry 1568.\n"
     ]
    },
    {
     "name": "stdout",
     "output_type": "stream",
     "text": [
      "Changes saved for entry 1569.\n",
      "Entry 1569 deleted.\n"
     ]
    },
    {
     "name": "stdout",
     "output_type": "stream",
     "text": [
      "Changes saved for entry 1569.\n"
     ]
    },
    {
     "name": "stdout",
     "output_type": "stream",
     "text": [
      "Changes saved for entry 1570.\n"
     ]
    },
    {
     "name": "stdout",
     "output_type": "stream",
     "text": [
      "Changes saved for entry 1571.\n"
     ]
    },
    {
     "name": "stdout",
     "output_type": "stream",
     "text": [
      "Changes saved for entry 1572.\n",
      "Entry 1572 deleted.\n"
     ]
    },
    {
     "name": "stdout",
     "output_type": "stream",
     "text": [
      "Changes saved for entry 1572.\n",
      "Entry 1572 deleted.\n"
     ]
    },
    {
     "name": "stdout",
     "output_type": "stream",
     "text": [
      "Changes saved for entry 1572.\n",
      "Empty item added and changes saved for entry 1572.\n"
     ]
    },
    {
     "name": "stdout",
     "output_type": "stream",
     "text": [
      "Changes saved for entry 1572.\n"
     ]
    },
    {
     "name": "stdout",
     "output_type": "stream",
     "text": [
      "Changes saved for entry 1573.\n"
     ]
    },
    {
     "name": "stdout",
     "output_type": "stream",
     "text": [
      "Changes saved for entry 1574.\n",
      "Entry 1574 deleted.\n"
     ]
    },
    {
     "name": "stdout",
     "output_type": "stream",
     "text": [
      "Changes saved for entry 1574.\n"
     ]
    },
    {
     "name": "stdout",
     "output_type": "stream",
     "text": [
      "Changes saved for entry 1575.\n"
     ]
    },
    {
     "name": "stdout",
     "output_type": "stream",
     "text": [
      "Changes saved for entry 1576.\n",
      "Empty item added and changes saved for entry 1576.\n"
     ]
    },
    {
     "name": "stdout",
     "output_type": "stream",
     "text": [
      "Changes saved for entry 1576.\n"
     ]
    },
    {
     "name": "stdout",
     "output_type": "stream",
     "text": [
      "Changes saved for entry 1577.\n"
     ]
    },
    {
     "name": "stdout",
     "output_type": "stream",
     "text": [
      "Changes saved for entry 1578.\n"
     ]
    },
    {
     "name": "stdout",
     "output_type": "stream",
     "text": [
      "Changes saved for entry 1579.\n",
      "Entry 1579 deleted.\n"
     ]
    },
    {
     "name": "stdout",
     "output_type": "stream",
     "text": [
      "Changes saved for entry 1579.\n"
     ]
    },
    {
     "name": "stdout",
     "output_type": "stream",
     "text": [
      "Changes saved for entry 1580.\n",
      "Entry 1580 deleted.\n"
     ]
    },
    {
     "name": "stdout",
     "output_type": "stream",
     "text": [
      "Changes saved for entry 1580.\n",
      "Empty item added and changes saved for entry 1580.\n"
     ]
    },
    {
     "name": "stdout",
     "output_type": "stream",
     "text": [
      "Changes saved for entry 1580.\n"
     ]
    },
    {
     "name": "stdout",
     "output_type": "stream",
     "text": [
      "Changes saved for entry 1581.\n"
     ]
    },
    {
     "name": "stdout",
     "output_type": "stream",
     "text": [
      "Changes saved for entry 1582.\n",
      "Entry 1582 deleted.\n"
     ]
    },
    {
     "name": "stdout",
     "output_type": "stream",
     "text": [
      "Changes saved for entry 1582.\n",
      "Entry 1582 deleted.\n"
     ]
    },
    {
     "name": "stdout",
     "output_type": "stream",
     "text": [
      "Changes saved for entry 1582.\n"
     ]
    },
    {
     "name": "stdout",
     "output_type": "stream",
     "text": [
      "Changes saved for entry 1583.\n",
      "Entry 1583 deleted.\n"
     ]
    },
    {
     "name": "stdout",
     "output_type": "stream",
     "text": [
      "Changes saved for entry 1583.\n",
      "Entry 1583 deleted.\n"
     ]
    },
    {
     "name": "stdout",
     "output_type": "stream",
     "text": [
      "Changes saved for entry 1583.\n",
      "Empty item added and changes saved for entry 1583.\n"
     ]
    },
    {
     "name": "stdout",
     "output_type": "stream",
     "text": [
      "Changes saved for entry 1583.\n"
     ]
    },
    {
     "name": "stdout",
     "output_type": "stream",
     "text": [
      "Changes saved for entry 1584.\n"
     ]
    },
    {
     "name": "stdout",
     "output_type": "stream",
     "text": [
      "Changes saved for entry 1585.\n",
      "Entry 1585 deleted.\n"
     ]
    },
    {
     "name": "stdout",
     "output_type": "stream",
     "text": [
      "Changes saved for entry 1585.\n"
     ]
    },
    {
     "name": "stdout",
     "output_type": "stream",
     "text": [
      "Changes saved for entry 1586.\n"
     ]
    },
    {
     "name": "stdout",
     "output_type": "stream",
     "text": [
      "Changes saved for entry 1587.\n",
      "Entry 1587 deleted.\n"
     ]
    },
    {
     "name": "stdout",
     "output_type": "stream",
     "text": [
      "Changes saved for entry 1587.\n"
     ]
    },
    {
     "name": "stdout",
     "output_type": "stream",
     "text": [
      "Changes saved for entry 1588.\n"
     ]
    },
    {
     "name": "stdout",
     "output_type": "stream",
     "text": [
      "Changes saved for entry 1589.\n",
      "Entry 1589 deleted.\n"
     ]
    },
    {
     "name": "stdout",
     "output_type": "stream",
     "text": [
      "Changes saved for entry 1589.\n",
      "Entry 1589 deleted.\n"
     ]
    },
    {
     "name": "stdout",
     "output_type": "stream",
     "text": [
      "Changes saved for entry 1589.\n",
      "Empty item added and changes saved for entry 1589.\n"
     ]
    },
    {
     "name": "stdout",
     "output_type": "stream",
     "text": [
      "Changes saved for entry 1589.\n"
     ]
    },
    {
     "name": "stdout",
     "output_type": "stream",
     "text": [
      "Changes saved for entry 1590.\n"
     ]
    },
    {
     "name": "stdout",
     "output_type": "stream",
     "text": [
      "Changes saved for entry 1591.\n"
     ]
    },
    {
     "name": "stdout",
     "output_type": "stream",
     "text": [
      "Changes saved for entry 1592.\n",
      "Entry 1592 deleted.\n"
     ]
    },
    {
     "name": "stdout",
     "output_type": "stream",
     "text": [
      "Changes saved for entry 1592.\n",
      "Entry 1592 deleted.\n"
     ]
    },
    {
     "name": "stdout",
     "output_type": "stream",
     "text": [
      "Changes saved for entry 1592.\n",
      "Entry 1592 deleted.\n"
     ]
    },
    {
     "name": "stdout",
     "output_type": "stream",
     "text": [
      "Changes saved for entry 1592.\n"
     ]
    },
    {
     "name": "stdout",
     "output_type": "stream",
     "text": [
      "Changes saved for entry 1593.\n"
     ]
    },
    {
     "name": "stdout",
     "output_type": "stream",
     "text": [
      "Changes saved for entry 1594.\n",
      "Entry 1594 deleted.\n"
     ]
    },
    {
     "name": "stdout",
     "output_type": "stream",
     "text": [
      "Changes saved for entry 1594.\n"
     ]
    },
    {
     "name": "stdout",
     "output_type": "stream",
     "text": [
      "Changes saved for entry 1595.\n",
      "Entry 1595 deleted.\n"
     ]
    },
    {
     "name": "stdout",
     "output_type": "stream",
     "text": [
      "Changes saved for entry 1595.\n",
      "Entry 1595 deleted.\n"
     ]
    },
    {
     "name": "stdout",
     "output_type": "stream",
     "text": [
      "Changes saved for entry 1595.\n",
      "Entry 1595 deleted.\n"
     ]
    },
    {
     "name": "stdout",
     "output_type": "stream",
     "text": [
      "Changes saved for entry 1595.\n",
      "Entry 1595 deleted.\n"
     ]
    },
    {
     "name": "stdout",
     "output_type": "stream",
     "text": [
      "Changes saved for entry 1595.\n"
     ]
    },
    {
     "name": "stdout",
     "output_type": "stream",
     "text": [
      "Changes saved for entry 1596.\n",
      "Empty item added and changes saved for entry 1596.\n"
     ]
    },
    {
     "name": "stdout",
     "output_type": "stream",
     "text": [
      "Changes saved for entry 1596.\n"
     ]
    },
    {
     "name": "stdout",
     "output_type": "stream",
     "text": [
      "Changes saved for entry 1597.\n",
      "Empty item added and changes saved for entry 1597.\n"
     ]
    },
    {
     "name": "stdout",
     "output_type": "stream",
     "text": [
      "Changes saved for entry 1597.\n"
     ]
    },
    {
     "name": "stdout",
     "output_type": "stream",
     "text": [
      "Changes saved for entry 1598.\n",
      "Empty item added and changes saved for entry 1598.\n"
     ]
    },
    {
     "name": "stdout",
     "output_type": "stream",
     "text": [
      "Changes saved for entry 1598.\n"
     ]
    },
    {
     "name": "stdout",
     "output_type": "stream",
     "text": [
      "Changes saved for entry 1599.\n",
      "Empty item added and changes saved for entry 1599.\n"
     ]
    },
    {
     "name": "stdout",
     "output_type": "stream",
     "text": [
      "Changes saved for entry 1599.\n"
     ]
    },
    {
     "name": "stdout",
     "output_type": "stream",
     "text": [
      "Changes saved for entry 1600.\n"
     ]
    },
    {
     "name": "stdout",
     "output_type": "stream",
     "text": [
      "Changes saved for entry 1601.\n",
      "Empty item added and changes saved for entry 1601.\n"
     ]
    },
    {
     "name": "stdout",
     "output_type": "stream",
     "text": [
      "Changes saved for entry 1601.\n"
     ]
    },
    {
     "name": "stdout",
     "output_type": "stream",
     "text": [
      "Changes saved for entry 1602.\n",
      "Item 2 deleted and changes saved for entry 1602.\n"
     ]
    },
    {
     "name": "stdout",
     "output_type": "stream",
     "text": [
      "Changes saved for entry 1602.\n"
     ]
    },
    {
     "name": "stdout",
     "output_type": "stream",
     "text": [
      "Changes saved for entry 1603.\n"
     ]
    },
    {
     "name": "stdout",
     "output_type": "stream",
     "text": [
      "Changes saved for entry 1604.\n"
     ]
    },
    {
     "name": "stdout",
     "output_type": "stream",
     "text": [
      "Changes saved for entry 1603.\n"
     ]
    },
    {
     "name": "stdout",
     "output_type": "stream",
     "text": [
      "Changes saved for entry 1604.\n"
     ]
    },
    {
     "name": "stdout",
     "output_type": "stream",
     "text": [
      "Changes saved for entry 1605.\n",
      "Entry 1605 deleted.\n"
     ]
    },
    {
     "name": "stdout",
     "output_type": "stream",
     "text": [
      "Changes saved for entry 1605.\n"
     ]
    },
    {
     "name": "stdout",
     "output_type": "stream",
     "text": [
      "Changes saved for entry 1606.\n",
      "Entry 1606 deleted.\n"
     ]
    },
    {
     "name": "stdout",
     "output_type": "stream",
     "text": [
      "Changes saved for entry 1606.\n",
      "Entry 1606 deleted.\n"
     ]
    },
    {
     "name": "stdout",
     "output_type": "stream",
     "text": [
      "Changes saved for entry 1606.\n"
     ]
    },
    {
     "name": "stdout",
     "output_type": "stream",
     "text": [
      "Changes saved for entry 1607.\n"
     ]
    },
    {
     "name": "stdout",
     "output_type": "stream",
     "text": [
      "Changes saved for entry 1608.\n",
      "Empty item added and changes saved for entry 1608.\n"
     ]
    },
    {
     "name": "stdout",
     "output_type": "stream",
     "text": [
      "Changes saved for entry 1608.\n"
     ]
    },
    {
     "name": "stdout",
     "output_type": "stream",
     "text": [
      "Changes saved for entry 1609.\n"
     ]
    },
    {
     "name": "stdout",
     "output_type": "stream",
     "text": [
      "Changes saved for entry 1610.\n"
     ]
    },
    {
     "name": "stdout",
     "output_type": "stream",
     "text": [
      "Changes saved for entry 1611.\n",
      "Entry 1611 deleted.\n"
     ]
    },
    {
     "name": "stdout",
     "output_type": "stream",
     "text": [
      "Changes saved for entry 1611.\n",
      "Empty item added and changes saved for entry 1611.\n"
     ]
    },
    {
     "name": "stdout",
     "output_type": "stream",
     "text": [
      "Changes saved for entry 1611.\n"
     ]
    },
    {
     "name": "stdout",
     "output_type": "stream",
     "text": [
      "Changes saved for entry 1612.\n"
     ]
    },
    {
     "name": "stdout",
     "output_type": "stream",
     "text": [
      "Changes saved for entry 1613.\n"
     ]
    },
    {
     "name": "stdout",
     "output_type": "stream",
     "text": [
      "Changes saved for entry 1614.\n",
      "Entry 1614 deleted.\n"
     ]
    },
    {
     "name": "stdout",
     "output_type": "stream",
     "text": [
      "Changes saved for entry 1614.\n"
     ]
    },
    {
     "name": "stdout",
     "output_type": "stream",
     "text": [
      "Changes saved for entry 1615.\n",
      "Entry 1615 deleted.\n"
     ]
    },
    {
     "name": "stdout",
     "output_type": "stream",
     "text": [
      "Changes saved for entry 1615.\n",
      "Empty item added and changes saved for entry 1615.\n"
     ]
    },
    {
     "name": "stdout",
     "output_type": "stream",
     "text": [
      "Changes saved for entry 1615.\n"
     ]
    },
    {
     "name": "stdout",
     "output_type": "stream",
     "text": [
      "Changes saved for entry 1616.\n",
      "Entry 1616 deleted.\n"
     ]
    },
    {
     "name": "stdout",
     "output_type": "stream",
     "text": [
      "Changes saved for entry 1616.\n"
     ]
    },
    {
     "name": "stdout",
     "output_type": "stream",
     "text": [
      "Changes saved for entry 1617.\n"
     ]
    },
    {
     "name": "stdout",
     "output_type": "stream",
     "text": [
      "Changes saved for entry 1618.\n",
      "Entry 1618 deleted.\n"
     ]
    },
    {
     "name": "stdout",
     "output_type": "stream",
     "text": [
      "Changes saved for entry 1618.\n"
     ]
    },
    {
     "name": "stdout",
     "output_type": "stream",
     "text": [
      "Changes saved for entry 1619.\n"
     ]
    },
    {
     "name": "stdout",
     "output_type": "stream",
     "text": [
      "Changes saved for entry 1620.\n"
     ]
    },
    {
     "name": "stdout",
     "output_type": "stream",
     "text": [
      "Changes saved for entry 1621.\n"
     ]
    },
    {
     "name": "stdout",
     "output_type": "stream",
     "text": [
      "Changes saved for entry 1622.\n"
     ]
    },
    {
     "name": "stdout",
     "output_type": "stream",
     "text": [
      "Changes saved for entry 1623.\n"
     ]
    },
    {
     "name": "stdout",
     "output_type": "stream",
     "text": [
      "Changes saved for entry 1624.\n"
     ]
    },
    {
     "name": "stdout",
     "output_type": "stream",
     "text": [
      "Changes saved for entry 1625.\n",
      "Entry 1625 deleted.\n"
     ]
    },
    {
     "name": "stdout",
     "output_type": "stream",
     "text": [
      "Changes saved for entry 1625.\n"
     ]
    },
    {
     "name": "stdout",
     "output_type": "stream",
     "text": [
      "Changes saved for entry 1626.\n",
      "Entry 1626 deleted.\n"
     ]
    },
    {
     "name": "stdout",
     "output_type": "stream",
     "text": [
      "Changes saved for entry 1626.\n",
      "Item 1 deleted and changes saved for entry 1626.\n"
     ]
    },
    {
     "name": "stdout",
     "output_type": "stream",
     "text": [
      "Changes saved for entry 1626.\n"
     ]
    },
    {
     "name": "stdout",
     "output_type": "stream",
     "text": [
      "Changes saved for entry 1627.\n",
      "Entry 1627 deleted.\n"
     ]
    },
    {
     "name": "stdout",
     "output_type": "stream",
     "text": [
      "Changes saved for entry 1627.\n"
     ]
    },
    {
     "name": "stdout",
     "output_type": "stream",
     "text": [
      "Changes saved for entry 1628.\n"
     ]
    },
    {
     "name": "stdout",
     "output_type": "stream",
     "text": [
      "Changes saved for entry 1629.\n"
     ]
    },
    {
     "name": "stdout",
     "output_type": "stream",
     "text": [
      "Changes saved for entry 1630.\n"
     ]
    },
    {
     "name": "stdout",
     "output_type": "stream",
     "text": [
      "Changes saved for entry 1631.\n",
      "Entry 1631 deleted.\n"
     ]
    },
    {
     "name": "stdout",
     "output_type": "stream",
     "text": [
      "Changes saved for entry 1631.\n"
     ]
    },
    {
     "name": "stdout",
     "output_type": "stream",
     "text": [
      "Changes saved for entry 1632.\n",
      "Entry 1632 deleted.\n"
     ]
    },
    {
     "name": "stdout",
     "output_type": "stream",
     "text": [
      "Changes saved for entry 1632.\n",
      "Entry 1632 deleted.\n"
     ]
    },
    {
     "name": "stdout",
     "output_type": "stream",
     "text": [
      "Changes saved for entry 1632.\n",
      "Entry 1632 deleted.\n"
     ]
    },
    {
     "name": "stdout",
     "output_type": "stream",
     "text": [
      "Changes saved for entry 1632.\n"
     ]
    },
    {
     "name": "stdout",
     "output_type": "stream",
     "text": [
      "Changes saved for entry 1633.\n"
     ]
    },
    {
     "name": "stdout",
     "output_type": "stream",
     "text": [
      "Changes saved for entry 1634.\n",
      "Entry 1634 deleted.\n"
     ]
    },
    {
     "name": "stdout",
     "output_type": "stream",
     "text": [
      "Changes saved for entry 1634.\n",
      "Entry 1634 deleted.\n"
     ]
    },
    {
     "name": "stdout",
     "output_type": "stream",
     "text": [
      "Changes saved for entry 1634.\n",
      "Entry 1634 deleted.\n"
     ]
    },
    {
     "name": "stdout",
     "output_type": "stream",
     "text": [
      "Changes saved for entry 1634.\n",
      "Entry 1634 deleted.\n"
     ]
    },
    {
     "name": "stdout",
     "output_type": "stream",
     "text": [
      "Changes saved for entry 1634.\n",
      "Entry 1634 deleted.\n"
     ]
    },
    {
     "name": "stdout",
     "output_type": "stream",
     "text": [
      "Changes saved for entry 1634.\n",
      "Entry 1634 deleted.\n"
     ]
    },
    {
     "name": "stdout",
     "output_type": "stream",
     "text": [
      "Changes saved for entry 1634.\n"
     ]
    },
    {
     "name": "stdout",
     "output_type": "stream",
     "text": [
      "Changes saved for entry 1635.\n"
     ]
    },
    {
     "name": "stdout",
     "output_type": "stream",
     "text": [
      "Changes saved for entry 1636.\n"
     ]
    },
    {
     "name": "stdout",
     "output_type": "stream",
     "text": [
      "Changes saved for entry 1637.\n"
     ]
    },
    {
     "name": "stdout",
     "output_type": "stream",
     "text": [
      "Changes saved for entry 1638.\n",
      "Entry 1638 deleted.\n"
     ]
    },
    {
     "name": "stdout",
     "output_type": "stream",
     "text": [
      "Changes saved for entry 1638.\n"
     ]
    },
    {
     "name": "stdout",
     "output_type": "stream",
     "text": [
      "Changes saved for entry 1639.\n"
     ]
    },
    {
     "name": "stdout",
     "output_type": "stream",
     "text": [
      "Changes saved for entry 1640.\n"
     ]
    },
    {
     "name": "stdout",
     "output_type": "stream",
     "text": [
      "Changes saved for entry 1641.\n",
      "Entry 1641 deleted.\n"
     ]
    },
    {
     "name": "stdout",
     "output_type": "stream",
     "text": [
      "Changes saved for entry 1641.\n"
     ]
    },
    {
     "name": "stdout",
     "output_type": "stream",
     "text": [
      "Changes saved for entry 1642.\n"
     ]
    },
    {
     "name": "stdout",
     "output_type": "stream",
     "text": [
      "Changes saved for entry 1643.\n",
      "Entry 1643 deleted.\n"
     ]
    },
    {
     "name": "stdout",
     "output_type": "stream",
     "text": [
      "Changes saved for entry 1643.\n",
      "Entry 1643 deleted.\n"
     ]
    },
    {
     "name": "stdout",
     "output_type": "stream",
     "text": [
      "Changes saved for entry 1643.\n"
     ]
    },
    {
     "name": "stdout",
     "output_type": "stream",
     "text": [
      "Changes saved for entry 1644.\n",
      "Entry 1644 deleted.\n"
     ]
    },
    {
     "name": "stdout",
     "output_type": "stream",
     "text": [
      "Changes saved for entry 1644.\n"
     ]
    },
    {
     "name": "stdout",
     "output_type": "stream",
     "text": [
      "Changes saved for entry 1645.\n"
     ]
    },
    {
     "name": "stdout",
     "output_type": "stream",
     "text": [
      "Changes saved for entry 1646.\n"
     ]
    },
    {
     "name": "stdout",
     "output_type": "stream",
     "text": [
      "Changes saved for entry 1647.\n"
     ]
    },
    {
     "name": "stdout",
     "output_type": "stream",
     "text": [
      "Changes saved for entry 1648.\n"
     ]
    },
    {
     "name": "stdout",
     "output_type": "stream",
     "text": [
      "Changes saved for entry 1649.\n"
     ]
    },
    {
     "name": "stdout",
     "output_type": "stream",
     "text": [
      "Changes saved for entry 1648.\n"
     ]
    },
    {
     "name": "stdout",
     "output_type": "stream",
     "text": [
      "Changes saved for entry 1649.\n"
     ]
    },
    {
     "name": "stdout",
     "output_type": "stream",
     "text": [
      "Changes saved for entry 1648.\n"
     ]
    },
    {
     "name": "stdout",
     "output_type": "stream",
     "text": [
      "Changes saved for entry 1649.\n"
     ]
    },
    {
     "name": "stdout",
     "output_type": "stream",
     "text": [
      "Changes saved for entry 1648.\n"
     ]
    },
    {
     "name": "stdout",
     "output_type": "stream",
     "text": [
      "Changes saved for entry 1649.\n"
     ]
    },
    {
     "name": "stdout",
     "output_type": "stream",
     "text": [
      "Changes saved for entry 1650.\n"
     ]
    },
    {
     "name": "stdout",
     "output_type": "stream",
     "text": [
      "Changes saved for entry 1651.\n"
     ]
    },
    {
     "name": "stdout",
     "output_type": "stream",
     "text": [
      "Changes saved for entry 1652.\n"
     ]
    },
    {
     "name": "stdout",
     "output_type": "stream",
     "text": [
      "Changes saved for entry 1653.\n",
      "Entry 1653 deleted.\n"
     ]
    },
    {
     "name": "stdout",
     "output_type": "stream",
     "text": [
      "Changes saved for entry 1653.\n",
      "Entry 1653 deleted.\n"
     ]
    },
    {
     "name": "stdout",
     "output_type": "stream",
     "text": [
      "Changes saved for entry 1653.\n",
      "Entry 1653 deleted.\n"
     ]
    },
    {
     "name": "stdout",
     "output_type": "stream",
     "text": [
      "Changes saved for entry 1653.\n"
     ]
    },
    {
     "name": "stdout",
     "output_type": "stream",
     "text": [
      "Changes saved for entry 1654.\n",
      "Entry 1654 deleted.\n"
     ]
    },
    {
     "name": "stdout",
     "output_type": "stream",
     "text": [
      "Changes saved for entry 1654.\n",
      "Entry 1654 deleted.\n"
     ]
    },
    {
     "name": "stdout",
     "output_type": "stream",
     "text": [
      "Changes saved for entry 1654.\n",
      "Entry 1654 deleted.\n"
     ]
    },
    {
     "name": "stdout",
     "output_type": "stream",
     "text": [
      "Changes saved for entry 1654.\n"
     ]
    },
    {
     "name": "stdout",
     "output_type": "stream",
     "text": [
      "Changes saved for entry 1655.\n",
      "Empty item added and changes saved for entry 1655.\n"
     ]
    },
    {
     "name": "stdout",
     "output_type": "stream",
     "text": [
      "Changes saved for entry 1655.\n"
     ]
    },
    {
     "name": "stdout",
     "output_type": "stream",
     "text": [
      "Changes saved for entry 1656.\n",
      "Entry 1656 deleted.\n"
     ]
    },
    {
     "name": "stdout",
     "output_type": "stream",
     "text": [
      "Changes saved for entry 1656.\n",
      "Entry 1656 deleted.\n"
     ]
    },
    {
     "name": "stdout",
     "output_type": "stream",
     "text": [
      "Changes saved for entry 1656.\n"
     ]
    },
    {
     "name": "stdout",
     "output_type": "stream",
     "text": [
      "Changes saved for entry 1657.\n"
     ]
    },
    {
     "name": "stdout",
     "output_type": "stream",
     "text": [
      "Changes saved for entry 1658.\n"
     ]
    },
    {
     "name": "stdout",
     "output_type": "stream",
     "text": [
      "Changes saved for entry 1659.\n",
      "Entry 1659 deleted.\n"
     ]
    },
    {
     "name": "stdout",
     "output_type": "stream",
     "text": [
      "Changes saved for entry 1659.\n"
     ]
    },
    {
     "name": "stdout",
     "output_type": "stream",
     "text": [
      "Changes saved for entry 1660.\n"
     ]
    },
    {
     "name": "stdout",
     "output_type": "stream",
     "text": [
      "Changes saved for entry 1661.\n"
     ]
    },
    {
     "name": "stdout",
     "output_type": "stream",
     "text": [
      "Changes saved for entry 1662.\n"
     ]
    },
    {
     "name": "stdout",
     "output_type": "stream",
     "text": [
      "Changes saved for entry 1663.\n"
     ]
    },
    {
     "name": "stdout",
     "output_type": "stream",
     "text": [
      "Changes saved for entry 1664.\n"
     ]
    },
    {
     "name": "stdout",
     "output_type": "stream",
     "text": [
      "Changes saved for entry 1665.\n"
     ]
    },
    {
     "name": "stdout",
     "output_type": "stream",
     "text": [
      "Changes saved for entry 1666.\n",
      "Entry 1666 deleted.\n"
     ]
    },
    {
     "name": "stdout",
     "output_type": "stream",
     "text": [
      "Changes saved for entry 1666.\n",
      "Entry 1666 deleted.\n"
     ]
    },
    {
     "name": "stdout",
     "output_type": "stream",
     "text": [
      "Changes saved for entry 1666.\n",
      "Entry 1666 deleted.\n"
     ]
    },
    {
     "name": "stdout",
     "output_type": "stream",
     "text": [
      "Changes saved for entry 1666.\n",
      "Entry 1666 deleted.\n"
     ]
    },
    {
     "name": "stdout",
     "output_type": "stream",
     "text": [
      "Changes saved for entry 1666.\n"
     ]
    },
    {
     "name": "stdout",
     "output_type": "stream",
     "text": [
      "Changes saved for entry 1667.\n"
     ]
    },
    {
     "name": "stdout",
     "output_type": "stream",
     "text": [
      "Changes saved for entry 1668.\n",
      "Entry 1668 deleted.\n"
     ]
    },
    {
     "name": "stdout",
     "output_type": "stream",
     "text": [
      "Changes saved for entry 1668.\n",
      "Entry 1668 deleted.\n"
     ]
    },
    {
     "name": "stdout",
     "output_type": "stream",
     "text": [
      "Changes saved for entry 1668.\n",
      "Entry 1668 deleted.\n"
     ]
    },
    {
     "name": "stdout",
     "output_type": "stream",
     "text": [
      "Changes saved for entry 1668.\n",
      "Entry 1668 deleted.\n"
     ]
    },
    {
     "name": "stdout",
     "output_type": "stream",
     "text": [
      "Changes saved for entry 1668.\n"
     ]
    },
    {
     "name": "stdout",
     "output_type": "stream",
     "text": [
      "Changes saved for entry 1669.\n"
     ]
    },
    {
     "name": "stdout",
     "output_type": "stream",
     "text": [
      "Changes saved for entry 1670.\n",
      "Entry 1670 deleted.\n"
     ]
    },
    {
     "name": "stdout",
     "output_type": "stream",
     "text": [
      "Changes saved for entry 1670.\n",
      "Entry 1670 deleted.\n"
     ]
    },
    {
     "name": "stdout",
     "output_type": "stream",
     "text": [
      "Changes saved for entry 1670.\n"
     ]
    },
    {
     "name": "stdout",
     "output_type": "stream",
     "text": [
      "Changes saved for entry 1671.\n",
      "Entry 1671 deleted.\n"
     ]
    },
    {
     "name": "stdout",
     "output_type": "stream",
     "text": [
      "Changes saved for entry 1671.\n",
      "Entry 1671 deleted.\n"
     ]
    },
    {
     "name": "stdout",
     "output_type": "stream",
     "text": [
      "Changes saved for entry 1671.\n",
      "Entry 1671 deleted.\n"
     ]
    },
    {
     "name": "stdout",
     "output_type": "stream",
     "text": [
      "Changes saved for entry 1671.\n",
      "Entry 1671 deleted.\n"
     ]
    },
    {
     "name": "stdout",
     "output_type": "stream",
     "text": [
      "Changes saved for entry 1671.\n",
      "Entry 1671 deleted.\n"
     ]
    },
    {
     "name": "stdout",
     "output_type": "stream",
     "text": [
      "Changes saved for entry 1671.\n",
      "Entry 1671 deleted.\n"
     ]
    },
    {
     "name": "stdout",
     "output_type": "stream",
     "text": [
      "Changes saved for entry 1671.\n"
     ]
    },
    {
     "name": "stdout",
     "output_type": "stream",
     "text": [
      "Changes saved for entry 1672.\n",
      "Entry 1672 deleted.\n"
     ]
    },
    {
     "name": "stdout",
     "output_type": "stream",
     "text": [
      "Changes saved for entry 1672.\n"
     ]
    },
    {
     "name": "stdout",
     "output_type": "stream",
     "text": [
      "Changes saved for entry 1673.\n",
      "Entry 1673 deleted.\n"
     ]
    },
    {
     "name": "stdout",
     "output_type": "stream",
     "text": [
      "Changes saved for entry 1673.\n"
     ]
    },
    {
     "name": "stdout",
     "output_type": "stream",
     "text": [
      "Changes saved for entry 1674.\n"
     ]
    },
    {
     "name": "stdout",
     "output_type": "stream",
     "text": [
      "Changes saved for entry 1675.\n"
     ]
    },
    {
     "name": "stdout",
     "output_type": "stream",
     "text": [
      "Changes saved for entry 1676.\n"
     ]
    },
    {
     "name": "stdout",
     "output_type": "stream",
     "text": [
      "Changes saved for entry 1677.\n",
      "Entry 1677 deleted.\n"
     ]
    },
    {
     "name": "stdout",
     "output_type": "stream",
     "text": [
      "Changes saved for entry 1677.\n"
     ]
    },
    {
     "name": "stdout",
     "output_type": "stream",
     "text": [
      "Changes saved for entry 1678.\n"
     ]
    },
    {
     "name": "stdout",
     "output_type": "stream",
     "text": [
      "Changes saved for entry 1677.\n"
     ]
    },
    {
     "name": "stdout",
     "output_type": "stream",
     "text": [
      "Changes saved for entry 1678.\n",
      "Entry 1678 deleted.\n"
     ]
    },
    {
     "name": "stdout",
     "output_type": "stream",
     "text": [
      "Changes saved for entry 1678.\n",
      "Item 1 deleted and changes saved for entry 1678.\n"
     ]
    },
    {
     "name": "stdout",
     "output_type": "stream",
     "text": [
      "Changes saved for entry 1678.\n"
     ]
    },
    {
     "name": "stdout",
     "output_type": "stream",
     "text": [
      "Changes saved for entry 1679.\n",
      "Entry 1679 deleted.\n"
     ]
    },
    {
     "name": "stdout",
     "output_type": "stream",
     "text": [
      "Changes saved for entry 1679.\n"
     ]
    },
    {
     "name": "stdout",
     "output_type": "stream",
     "text": [
      "Changes saved for entry 1680.\n",
      "Entry 1680 deleted.\n"
     ]
    },
    {
     "name": "stdout",
     "output_type": "stream",
     "text": [
      "Changes saved for entry 1680.\n",
      "Entry 1680 deleted.\n"
     ]
    },
    {
     "name": "stdout",
     "output_type": "stream",
     "text": [
      "Changes saved for entry 1680.\n"
     ]
    },
    {
     "name": "stdout",
     "output_type": "stream",
     "text": [
      "Changes saved for entry 1681.\n"
     ]
    },
    {
     "name": "stdout",
     "output_type": "stream",
     "text": [
      "Changes saved for entry 1682.\n"
     ]
    },
    {
     "name": "stdout",
     "output_type": "stream",
     "text": [
      "Changes saved for entry 1683.\n",
      "Entry 1683 deleted.\n"
     ]
    },
    {
     "name": "stdout",
     "output_type": "stream",
     "text": [
      "Changes saved for entry 1683.\n"
     ]
    },
    {
     "name": "stdout",
     "output_type": "stream",
     "text": [
      "Changes saved for entry 1684.\n",
      "Entry 1684 deleted.\n"
     ]
    },
    {
     "name": "stdout",
     "output_type": "stream",
     "text": [
      "Changes saved for entry 1684.\n",
      "Entry 1684 deleted.\n"
     ]
    },
    {
     "name": "stdout",
     "output_type": "stream",
     "text": [
      "Changes saved for entry 1684.\n",
      "Empty item added and changes saved for entry 1684.\n"
     ]
    },
    {
     "name": "stdout",
     "output_type": "stream",
     "text": [
      "Changes saved for entry 1684.\n"
     ]
    },
    {
     "name": "stdout",
     "output_type": "stream",
     "text": [
      "Changes saved for entry 1685.\n",
      "Item 1 deleted and changes saved for entry 1685.\n"
     ]
    },
    {
     "name": "stdout",
     "output_type": "stream",
     "text": [
      "Changes saved for entry 1685.\n"
     ]
    },
    {
     "name": "stdout",
     "output_type": "stream",
     "text": [
      "Changes saved for entry 1686.\n",
      "Entry 1686 deleted.\n"
     ]
    },
    {
     "name": "stdout",
     "output_type": "stream",
     "text": [
      "Changes saved for entry 1686.\n"
     ]
    },
    {
     "name": "stdout",
     "output_type": "stream",
     "text": [
      "Changes saved for entry 1687.\n"
     ]
    },
    {
     "name": "stdout",
     "output_type": "stream",
     "text": [
      "Changes saved for entry 1688.\n",
      "Entry 1688 deleted.\n"
     ]
    },
    {
     "name": "stdout",
     "output_type": "stream",
     "text": [
      "Changes saved for entry 1688.\n",
      "Entry 1688 deleted.\n"
     ]
    },
    {
     "name": "stdout",
     "output_type": "stream",
     "text": [
      "Changes saved for entry 1688.\n",
      "Item 1 deleted and changes saved for entry 1688.\n"
     ]
    },
    {
     "name": "stdout",
     "output_type": "stream",
     "text": [
      "Changes saved for entry 1688.\n"
     ]
    },
    {
     "name": "stdout",
     "output_type": "stream",
     "text": [
      "Changes saved for entry 1689.\n",
      "Entry 1689 deleted.\n"
     ]
    },
    {
     "name": "stdout",
     "output_type": "stream",
     "text": [
      "Changes saved for entry 1689.\n",
      "Entry 1689 deleted.\n"
     ]
    },
    {
     "name": "stdout",
     "output_type": "stream",
     "text": [
      "Changes saved for entry 1689.\n"
     ]
    },
    {
     "name": "stdout",
     "output_type": "stream",
     "text": [
      "Changes saved for entry 1690.\n"
     ]
    },
    {
     "name": "stdout",
     "output_type": "stream",
     "text": [
      "Changes saved for entry 1689.\n"
     ]
    },
    {
     "name": "stdout",
     "output_type": "stream",
     "text": [
      "Changes saved for entry 1690.\n"
     ]
    },
    {
     "name": "stdout",
     "output_type": "stream",
     "text": [
      "Changes saved for entry 1691.\n"
     ]
    },
    {
     "name": "stdout",
     "output_type": "stream",
     "text": [
      "Changes saved for entry 1692.\n"
     ]
    },
    {
     "name": "stdout",
     "output_type": "stream",
     "text": [
      "Changes saved for entry 1693.\n",
      "Entry 1693 deleted.\n"
     ]
    },
    {
     "name": "stdout",
     "output_type": "stream",
     "text": [
      "Changes saved for entry 1693.\n"
     ]
    },
    {
     "name": "stdout",
     "output_type": "stream",
     "text": [
      "Changes saved for entry 1694.\n",
      "Empty item added and changes saved for entry 1694.\n"
     ]
    },
    {
     "name": "stdout",
     "output_type": "stream",
     "text": [
      "Changes saved for entry 1694.\n"
     ]
    },
    {
     "name": "stdout",
     "output_type": "stream",
     "text": [
      "Changes saved for entry 1695.\n"
     ]
    },
    {
     "name": "stdout",
     "output_type": "stream",
     "text": [
      "Changes saved for entry 1696.\n"
     ]
    },
    {
     "name": "stdout",
     "output_type": "stream",
     "text": [
      "Changes saved for entry 1697.\n"
     ]
    },
    {
     "name": "stdout",
     "output_type": "stream",
     "text": [
      "Changes saved for entry 1698.\n"
     ]
    },
    {
     "name": "stdout",
     "output_type": "stream",
     "text": [
      "Changes saved for entry 1699.\n"
     ]
    },
    {
     "name": "stdout",
     "output_type": "stream",
     "text": [
      "Changes saved for entry 1700.\n"
     ]
    },
    {
     "name": "stdout",
     "output_type": "stream",
     "text": [
      "Changes saved for entry 1701.\n"
     ]
    }
   ],
   "source": [
    "import os\n",
    "import json\n",
    "import ipywidgets as widgets\n",
    "from IPython.display import display, clear_output\n",
    "\n",
    "output_file = \"../datasets/freiburg_groceries_dataset_final.json\"\n",
    "\n",
    "# Widgets for displaying and editing data\n",
    "image_widget = widgets.Image(format='jpg', layout=widgets.Layout(width='400px', height='300px'))\n",
    "\n",
    "# Keep track of the items in the current entry\n",
    "item_widgets = []\n",
    "\n",
    "# Navigation buttons\n",
    "prev_button = widgets.Button(description=\"Previous\")\n",
    "next_button = widgets.Button(description=\"Next\")\n",
    "close_button = widgets.Button(description=\"Close\")\n",
    "add_button = widgets.Button(description=\"Add Item\")\n",
    "delete_button = widgets.Button(description=\"Delete Entry\", button_style=\"danger\")  # For deleting the entire entry\n",
    "\n",
    "# Label to display current index\n",
    "index_label = widgets.Label(value=\"Current index: 0\")\n",
    "\n",
    "# Output display\n",
    "output = widgets.Output()\n",
    "\n",
    "# Index tracker for entries\n",
    "entry_index = 1702\n",
    "\n",
    "def create_item_widgets(items):\n",
    "    \"\"\"\n",
    "    Create a list of VBox widgets, each containing controls \n",
    "    for one item in the current entry, including a button \n",
    "    for deleting that item.\n",
    "    \"\"\"\n",
    "    widgets_list = []\n",
    "    for idx, item in enumerate(items):\n",
    "        category = widgets.Text(value=item[\"category\"], \n",
    "                                description=f\"Category {idx}:\")\n",
    "        fine_grained = widgets.Text(value=item[\"fine-grained category\"], \n",
    "                                    description=f\"Fine-Grained {idx}:\")\n",
    "        count = widgets.IntText(value=item[\"count\"], \n",
    "                                description=f\"Count {idx}:\")\n",
    "        \n",
    "        # Button to delete this single item from the entry\n",
    "        delete_btn = widgets.Button(description=\"Delete\", \n",
    "                                    button_style=\"danger\")\n",
    "        \n",
    "        # Use a lambda that captures idx\n",
    "        delete_btn.on_click(lambda b, item_idx=idx: delete_item(item_idx))\n",
    "        \n",
    "        widgets_list.append(\n",
    "            widgets.VBox([category, fine_grained, count, delete_btn])\n",
    "        )\n",
    "    return widgets_list\n",
    "\n",
    "def update_display():\n",
    "    \"\"\"\n",
    "    Update the displayed widgets (image and item widgets) \n",
    "    based on the current entry_index.\n",
    "    \"\"\"\n",
    "    global entry_index, item_widgets\n",
    "    \n",
    "    # If dataset is empty, clear everything\n",
    "    if len(dataset) == 0:\n",
    "        with output:\n",
    "            clear_output()\n",
    "            print(\"No entries left in the dataset.\")\n",
    "        image_widget.value = None\n",
    "        index_label.value = \"Current index: N/A\"\n",
    "        item_widgets.clear()\n",
    "        return\n",
    "    \n",
    "    # Fetch the current entry\n",
    "    entry = dataset[entry_index]\n",
    "    \n",
    "    # Update the index label\n",
    "    index_label.value = f\"Current index: {entry_index} / {len(dataset)-1}\"\n",
    "    \n",
    "    # Update image widget\n",
    "    image_path = os.path.join(\"..\", entry[\"path\"])\n",
    "    if os.path.exists(image_path):\n",
    "        with open(image_path, \"rb\") as f:\n",
    "            image_widget.value = f.read()\n",
    "    else:\n",
    "        image_widget.value = None\n",
    "\n",
    "    # Recreate item widgets for the current entry\n",
    "    item_widgets.clear()\n",
    "    item_widgets.extend(create_item_widgets(entry[\"items\"]))\n",
    "\n",
    "    # Update output display\n",
    "    with output:\n",
    "        clear_output()\n",
    "        display(\n",
    "            widgets.VBox([\n",
    "                image_widget,\n",
    "                widgets.VBox(item_widgets),\n",
    "                controls\n",
    "            ])\n",
    "        )\n",
    "\n",
    "def save_current_entry():\n",
    "    \"\"\"\n",
    "    Save any changes made in the widget fields \n",
    "    (category, fine-grained, count) to the dataset \n",
    "    for the current entry, then write to file.\n",
    "    \"\"\"\n",
    "    global entry_index, item_widgets\n",
    "    \n",
    "    if len(dataset) == 0:\n",
    "        return  # Nothing to save\n",
    "    \n",
    "    entry = dataset[entry_index]\n",
    "    # Apply widget values back to the dataset\n",
    "    for idx, widget_group in enumerate(item_widgets):\n",
    "        entry[\"items\"][idx][\"category\"] = widget_group.children[0].value\n",
    "        entry[\"items\"][idx][\"fine-grained category\"] = widget_group.children[1].value\n",
    "        entry[\"items\"][idx][\"count\"] = widget_group.children[2].value\n",
    "    \n",
    "    # Save to JSON file\n",
    "    with open(output_file, \"w\") as f:\n",
    "        json.dump(dataset, f, indent=4)\n",
    "    print(f\"Changes saved for entry {entry_index}.\")\n",
    "\n",
    "def delete_item(idx):\n",
    "    \"\"\"\n",
    "    Delete a single item from the current entry and update the file.\n",
    "    Before deletion, we save any unsaved changes to the current entry.\n",
    "    \"\"\"\n",
    "    global item_widgets, entry_index\n",
    "    \n",
    "    # First, save any unsaved changes in case user typed something\n",
    "    save_current_entry()\n",
    "    \n",
    "    entry = dataset[entry_index]\n",
    "    \n",
    "    # Check if the index is valid\n",
    "    if 0 <= idx < len(entry[\"items\"]):\n",
    "        del entry[\"items\"][idx]\n",
    "        \n",
    "        # Save again to ensure the deletion is reflected\n",
    "        with open(output_file, \"w\") as f:\n",
    "            json.dump(dataset, f, indent=4)\n",
    "        print(f\"Item {idx} deleted and changes saved for entry {entry_index}.\")\n",
    "        \n",
    "        # Update the display\n",
    "        update_display()\n",
    "\n",
    "def on_add_button_clicked(b):\n",
    "    \"\"\"\n",
    "    Add an empty (new) item to the current entry.\n",
    "    \"\"\"\n",
    "    global item_widgets, entry_index\n",
    "\n",
    "    save_current_entry()\n",
    "    \n",
    "    entry = dataset[entry_index]\n",
    "    prev_category = entry[\"items\"][0][\"category\"]\n",
    "    entry[\"items\"].append({\n",
    "        \"category\": prev_category,\n",
    "        \"fine-grained category\": prev_category,\n",
    "        \"count\": 1\n",
    "    })\n",
    "\n",
    "    # Save changes\n",
    "    with open(output_file, \"w\") as f:\n",
    "        json.dump(dataset, f, indent=4)\n",
    "    print(f\"Empty item added and changes saved for entry {entry_index}.\")\n",
    "    \n",
    "    update_display()\n",
    "\n",
    "def on_delete_entry_clicked(b):\n",
    "    \"\"\"\n",
    "    Delete the entire current entry.\n",
    "    1. Save current entry changes first.\n",
    "    2. Remove the entry from the dataset.\n",
    "    3. Adjust entry_index if necessary.\n",
    "    4. Save dataset to file again.\n",
    "    5. Update the display.\n",
    "    \"\"\"\n",
    "    global entry_index, dataset\n",
    "    \n",
    "    if len(dataset) == 0:\n",
    "        print(\"No entries to delete.\")\n",
    "        return\n",
    "    \n",
    "    # Save first\n",
    "    save_current_entry()\n",
    "    \n",
    "    # Delete the entry from the dataset\n",
    "    del dataset[entry_index]\n",
    "    print(f\"Entry {entry_index} deleted.\")\n",
    "    \n",
    "    # If we deleted the last entry in the list, move index backward\n",
    "    if entry_index >= len(dataset):\n",
    "        entry_index = len(dataset) - 1\n",
    "    \n",
    "    # If the dataset is now empty, handle that\n",
    "    if len(dataset) == 0:\n",
    "        with open(output_file, \"w\") as f:\n",
    "            json.dump(dataset, f, indent=4)\n",
    "        update_display()\n",
    "        return\n",
    "    \n",
    "    # Otherwise, save the updated dataset and refresh\n",
    "    with open(output_file, \"w\") as f:\n",
    "        json.dump(dataset, f, indent=4)\n",
    "    \n",
    "    update_display()\n",
    "\n",
    "def on_next_button_clicked(b):\n",
    "    \"\"\"\n",
    "    Go to the next entry. First, save the current entry changes.\n",
    "    \"\"\"\n",
    "    global entry_index\n",
    "    \n",
    "    # Save any pending changes\n",
    "    save_current_entry()\n",
    "    \n",
    "    # Move index if possible\n",
    "    if entry_index < len(dataset) - 1:\n",
    "        entry_index += 1\n",
    "        update_display()\n",
    "\n",
    "def on_prev_button_clicked(b):\n",
    "    \"\"\"\n",
    "    Go to the previous entry. First, save the current entry changes.\n",
    "    \"\"\"\n",
    "    global entry_index\n",
    "    \n",
    "    # Save any pending changes\n",
    "    save_current_entry()\n",
    "    \n",
    "    # Move index if possible\n",
    "    if entry_index > 0:\n",
    "        entry_index -= 1\n",
    "        update_display()\n",
    "\n",
    "def on_close_button_clicked(b):\n",
    "    \"\"\"\n",
    "    Clear the output area when closing.\n",
    "    \"\"\"\n",
    "    with output:\n",
    "        clear_output()\n",
    "\n",
    "# Connect buttons to their event handlers\n",
    "prev_button.on_click(on_prev_button_clicked)\n",
    "next_button.on_click(on_next_button_clicked)\n",
    "close_button.on_click(on_close_button_clicked)\n",
    "add_button.on_click(on_add_button_clicked)\n",
    "delete_button.on_click(on_delete_entry_clicked)  # <-- important for deleting entire entry\n",
    "\n",
    "# Arrange widgets\n",
    "controls = widgets.HBox([\n",
    "    prev_button, \n",
    "    next_button, \n",
    "    close_button, \n",
    "    add_button, \n",
    "    delete_button, \n",
    "    index_label  # show the current index here\n",
    "])\n",
    "\n",
    "viewer = widgets.VBox([widgets.VBox(item_widgets), output])\n",
    "\n",
    "# Finally, display the initial state\n",
    "update_display()\n"
   ]
  },
  {
   "cell_type": "code",
   "execution_count": 3,
   "metadata": {},
   "outputs": [
    {
     "data": {
      "application/vnd.jupyter.widget-view+json": {
       "model_id": "4bc61af6941e490c9be54b691f007004",
       "version_major": 2,
       "version_minor": 0
      },
      "text/plain": [
       "VBox(children=(VBox(), Output()))"
      ]
     },
     "metadata": {},
     "output_type": "display_data"
    }
   ],
   "source": [
    "# Initial display\n",
    "update_display()\n",
    "\n",
    "# Display the interface\n",
    "display(viewer)"
   ]
  },
  {
   "cell_type": "code",
   "execution_count": null,
   "metadata": {},
   "outputs": [],
   "source": []
  }
 ],
 "metadata": {
  "kernelspec": {
   "display_name": "VA",
   "language": "python",
   "name": "python3"
  },
  "language_info": {
   "codemirror_mode": {
    "name": "ipython",
    "version": 3
   },
   "file_extension": ".py",
   "mimetype": "text/x-python",
   "name": "python",
   "nbconvert_exporter": "python",
   "pygments_lexer": "ipython3",
   "version": "3.9.18"
  }
 },
 "nbformat": 4,
 "nbformat_minor": 2
}
